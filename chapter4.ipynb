{
 "cells": [
  {
   "cell_type": "code",
   "execution_count": null,
   "metadata": {},
   "outputs": [],
   "source": [
    "# %load ./dsfs/vector.py\n",
    "import math\n",
    "from typing import List\n",
    "Vector = List[float]\n",
    "\n",
    "def add(v1:Vector, v2:Vector) -> Vector:\n",
    "    assert len(v1) == len(v2), \"vectors must be the same length\"\n",
    "    return [v1_i + v2_i for v1_i, v2_i in zip(v1, v2)]\n",
    "\n",
    "\n",
    "def substract(v1:Vector, v2:Vector) -> Vector:\n",
    "    assert len(v1) == len(v2), \"vectors must be the same length\"\n",
    "    return [v1_i - v2_i for v1_i, v2_i in zip(v1, v2)]\n",
    "\n",
    "\n",
    "def multiply(v1:Vector, v2:Vector) -> Vector:\n",
    "    assert len(v1) == len(v2), \"vectors must be the same length\"\n",
    "    return [v1_i * v2_i for v1_i, v2_i in zip(v1, v2)]\n",
    "\n",
    "\n",
    "def vector_sum(vectors: List[Vector]) -> Vector:\n",
    "    assert vectors, \"cannot be empty\"\n",
    "    num_elements = len(vectors[0])\n",
    "    assert all(len(v) == num_elements for v in vectors), \"All vectors must be the same length\"\n",
    "\n",
    "    return [sum(vector[i] for vector in vectors)\n",
    "            for i in range(num_elements)\n",
    "    ]\n",
    "\n",
    "\n",
    "def scalar_multiply(c:float, v:Vector) -> Vector:\n",
    "    return [c * v_i for v_i in v]\n",
    "\n",
    "\n",
    "def vector_mean(vectors: List[Vector]) -> Vector:\n",
    "    n = len(vectors)\n",
    "    return scalar_multiply(1/n, vector_sum(vectors))\n",
    "\n",
    "\n",
    "def dot_product(v1: Vector, v2: Vector) -> float:\n",
    "    return sum(multiply(v1, v2))\n",
    "\n",
    "\n",
    "def sum_of_squared(v: Vector) -> float:\n",
    "    return dot_product(v, v)\n",
    "\n",
    "\n",
    "def magnitude(v: Vector) -> float:\n",
    "    math.sqrt(sum_of_squared(v))\n",
    "\n",
    "\n",
    "def squared_distance(v1: Vector, v2: Vector) -> float:\n",
    "    return sum_of_squared(substract(v1, v2))\n",
    "\n",
    "\n",
    "def distance(v1: Vector, v2: Vector) -> float:\n",
    "    return magnitude(squared_distance(v1, v2))\n",
    "\n"
   ]
  },
  {
   "cell_type": "code",
   "execution_count": 23,
   "metadata": {},
   "outputs": [],
   "source": [
    "# %load ./dsfs/matrix.py\n",
    "from typing import List, Tuple, Callable\n",
    "\n",
    "Matrix = List[List[float]]\n",
    "\n",
    "\n",
    "def shape(A: Matrix) -> Tuple[int, int]:\n",
    "    num_rows = len(A)\n",
    "    num_cols = len(A[0] if A else 0)\n",
    "    return num_rows, num_cols\n",
    "\n",
    "\n",
    "def row(A: Matrix, i: int) -> Vector:\n",
    "    return A[i]\n",
    "\n",
    "def column(A: Matrix, j: int) -> Vector:\n",
    "    return [A_i[j] for A_i in A]\n",
    "\n",
    "\n",
    "def make_matrix(num_rows: int, num_cols: int, entry_fn: Callable[[int, int], float]) -> Matrix:\n",
    "    return [[entry_fn(i, j)\n",
    "             for j in range(num_cols)]\n",
    "           for i in range(num_rows)]\n",
    "\n",
    "\n",
    "def identity_matrix(n: int) -> Matrix:\n",
    "    return make_matrix(n, n, lambda i,j: 1 if i == j else 0)\n",
    "\n",
    "def zero_matrix(n: int) -> Matrix:\n",
    "    return make_matrix(n, n, lambda i,j: 0)\n"
   ]
  },
  {
   "cell_type": "code",
   "execution_count": 25,
   "metadata": {},
   "outputs": [
    {
     "data": {
      "text/plain": [
       "[[1, 0, 0, 0, 0],\n",
       " [0, 1, 0, 0, 0],\n",
       " [0, 0, 1, 0, 0],\n",
       " [0, 0, 0, 1, 0],\n",
       " [0, 0, 0, 0, 1]]"
      ]
     },
     "metadata": {},
     "output_type": "display_data"
    }
   ],
   "source": [
    "display(identity_matrix(5))\n"
   ]
  },
  {
   "cell_type": "code",
   "execution_count": 27,
   "metadata": {},
   "outputs": [],
   "source": [
    "friendships = [(0,1), (0,2), (1,2), (1,3), (2,3), (3,4),\n",
    "               (4,5), (5,6), (5,7), (6,8), (7,8), (8,9)]"
   ]
  },
  {
   "cell_type": "code",
   "execution_count": 33,
   "metadata": {},
   "outputs": [
    {
     "data": {
      "text/plain": [
       "[[0, 1, 1, 0, 0, 0, 0, 0, 0, 0],\n",
       " [1, 0, 1, 1, 0, 0, 0, 0, 0, 0],\n",
       " [1, 1, 0, 1, 0, 0, 0, 0, 0, 0],\n",
       " [0, 1, 1, 0, 1, 0, 0, 0, 0, 0],\n",
       " [0, 0, 0, 1, 0, 1, 0, 0, 0, 0],\n",
       " [0, 0, 0, 0, 1, 0, 1, 1, 0, 0],\n",
       " [0, 0, 0, 0, 0, 1, 0, 0, 1, 0],\n",
       " [0, 0, 0, 0, 0, 1, 0, 0, 1, 0],\n",
       " [0, 0, 0, 0, 0, 0, 1, 1, 0, 1],\n",
       " [0, 0, 0, 0, 0, 0, 0, 0, 1, 0]]"
      ]
     },
     "metadata": {},
     "output_type": "display_data"
    }
   ],
   "source": [
    "friend_matrix = zero_matrix(10)\n",
    "for user_id in range(0, 10):\n",
    "    user_vector = row(friend_matrix, user_id)\n",
    "    for (u1, u2) in friendships:\n",
    "        if u1 == user_id:\n",
    "            user_vector[u2] = 1\n",
    "        elif u2 == user_id:\n",
    "            user_vector[u1] = 1\n",
    "display(friend_matrix)"
   ]
  },
  {
   "cell_type": "code",
   "execution_count": 35,
   "metadata": {},
   "outputs": [],
   "source": [
    "assert friend_matrix[0][2] == 1, \"0 and 2 are friends\"\n",
    "assert friend_matrix[0][8] == 0, \"0 and 8 are not friends\""
   ]
  },
  {
   "cell_type": "code",
   "execution_count": 38,
   "metadata": {},
   "outputs": [],
   "source": [
    "friends_of_five = [i for i, is_friend in enumerate(row(friend_matrix, 5)) if is_friend]"
   ]
  },
  {
   "cell_type": "code",
   "execution_count": 39,
   "metadata": {},
   "outputs": [
    {
     "data": {
      "text/plain": [
       "[4, 6, 7]"
      ]
     },
     "execution_count": 39,
     "metadata": {},
     "output_type": "execute_result"
    }
   ],
   "source": [
    "friends_of_five"
   ]
  },
  {
   "cell_type": "code",
   "execution_count": null,
   "metadata": {},
   "outputs": [],
   "source": []
  }
 ],
 "metadata": {
  "kernelspec": {
   "display_name": "Python 3",
   "language": "python",
   "name": "python3"
  },
  "language_info": {
   "codemirror_mode": {
    "name": "ipython",
    "version": 3
   },
   "file_extension": ".py",
   "mimetype": "text/x-python",
   "name": "python",
   "nbconvert_exporter": "python",
   "pygments_lexer": "ipython3",
   "version": "3.7.6"
  }
 },
 "nbformat": 4,
 "nbformat_minor": 4
}
