{
 "cells": [
  {
   "cell_type": "code",
   "execution_count": 35,
   "metadata": {},
   "outputs": [],
   "source": [
    "import json\n",
    "from collections import Counter, defaultdict\n",
    "import matplotlib.pyplot as plt\n"
   ]
  },
  {
   "cell_type": "code",
   "execution_count": 36,
   "metadata": {},
   "outputs": [],
   "source": [
    "users = json.load(open('data/users.json'))"
   ]
  },
  {
   "cell_type": "code",
   "execution_count": 37,
   "metadata": {},
   "outputs": [
    {
     "name": "stdout",
     "output_type": "stream",
     "text": [
      "[{'friends': [1, 2],\n",
      "  'id': 0,\n",
      "  'interests': ['hadoop',\n",
      "                'big data',\n",
      "                'hbase',\n",
      "                'java',\n",
      "                'spark',\n",
      "                'storm',\n",
      "                'cassandra'],\n",
      "  'name': 'Hero'},\n",
      " {'friends': [0, 2, 3],\n",
      "  'id': 1,\n",
      "  'interests': ['nosql', 'mongodb', 'cassandra', 'hbase', 'postgres'],\n",
      "  'name': 'Dunn'},\n",
      " {'friends': [0, 1, 3],\n",
      "  'id': 2,\n",
      "  'interests': ['python',\n",
      "                'scikit-learn',\n",
      "                'scipy',\n",
      "                'numpy',\n",
      "                'statsmodel',\n",
      "                'pandas'],\n",
      "  'name': 'Sue'},\n",
      " {'friends': [1, 2, 4],\n",
      "  'id': 3,\n",
      "  'interests': ['R', 'python', 'statistics', 'regression', 'probability'],\n",
      "  'name': 'Chi'},\n",
      " {'friends': [3, 5],\n",
      "  'id': 4,\n",
      "  'interests': ['machine learning', 'regression', 'decision trees', 'libsvm'],\n",
      "  'name': 'Thor'},\n",
      " {'friends': [4, 6, 7],\n",
      "  'id': 5,\n",
      "  'interests': ['python',\n",
      "                'R',\n",
      "                'java',\n",
      "                'c++',\n",
      "                'haskell',\n",
      "                'programming languages'],\n",
      "  'name': 'Clive'},\n",
      " {'friends': [5, 8],\n",
      "  'id': 6,\n",
      "  'interests': ['statistics', 'probability', 'mathematics', 'theory'],\n",
      "  'name': 'Hicks'},\n",
      " {'friends': [5, 8],\n",
      "  'id': 7,\n",
      "  'interests': ['machine learning',\n",
      "                'scikit-learn',\n",
      "                'mahout',\n",
      "                'neural networks'],\n",
      "  'name': 'Devin'},\n",
      " {'friends': [6, 7, 9],\n",
      "  'id': 8,\n",
      "  'interests': ['neural networks',\n",
      "                'deep learning',\n",
      "                'big data',\n",
      "                'artificial intelligence'],\n",
      "  'name': 'Kate'},\n",
      " {'friends': [8],\n",
      "  'id': 9,\n",
      "  'interests': ['hadoop', 'java', 'mapreduce', 'big data'],\n",
      "  'name': 'Klein'}]\n"
     ]
    }
   ],
   "source": [
    "__import__('pprint').pprint(users)"
   ]
  },
  {
   "cell_type": "code",
   "execution_count": 38,
   "metadata": {},
   "outputs": [],
   "source": [
    "def number_of_friends(user):\n",
    "    return len(user['friends'])"
   ]
  },
  {
   "cell_type": "code",
   "execution_count": 39,
   "metadata": {},
   "outputs": [
    {
     "data": {
      "text/plain": [
       "2"
      ]
     },
     "execution_count": 39,
     "metadata": {},
     "output_type": "execute_result"
    }
   ],
   "source": [
    "number_of_friends(users[0])"
   ]
  },
  {
   "cell_type": "code",
   "execution_count": 40,
   "metadata": {},
   "outputs": [],
   "source": [
    "total_connections = sum(number_of_friends(user) for user in users)\n",
    "assert 24 == total_connections, total_connections"
   ]
  },
  {
   "cell_type": "code",
   "execution_count": 41,
   "metadata": {},
   "outputs": [],
   "source": [
    "num_users = len(users) # 10\n",
    "avg_connections = total_connections/num_users \n",
    "assert avg_connections == 2.4"
   ]
  },
  {
   "cell_type": "code",
   "execution_count": 42,
   "metadata": {},
   "outputs": [
    {
     "name": "stdout",
     "output_type": "stream",
     "text": [
      "[(1, 3), (2, 3), (3, 3), (5, 3), (8, 3), (0, 2), (4, 2), (6, 2), (7, 2), (9, 1)]\n"
     ]
    }
   ],
   "source": [
    "num_friends_by_id = [(user[\"id\"], number_of_friends(user)) for user in users]\n",
    "num_friends_by_id.sort(key=lambda id_and_friends: id_and_friends[1], reverse=True)\n",
    "print(num_friends_by_id)"
   ]
  },
  {
   "cell_type": "code",
   "execution_count": 43,
   "metadata": {},
   "outputs": [],
   "source": [
    "def friends_of_friends(user):\n",
    "    user_friends = user['friends']\n",
    "    user_id = user['id']\n",
    "    return Counter(\n",
    "        foaf_id for friend_id in user_friends\n",
    "        for foaf_id in users[friend_id][\"friends\"] if foaf_id != user_id and foaf_id not in user_friends\n",
    "    )"
   ]
  },
  {
   "cell_type": "code",
   "execution_count": 44,
   "metadata": {},
   "outputs": [
    {
     "name": "stdout",
     "output_type": "stream",
     "text": [
      "Counter({0: 2, 5: 1})\n"
     ]
    }
   ],
   "source": [
    "print(friends_of_friends(users[3]))"
   ]
  },
  {
   "cell_type": "code",
   "execution_count": 45,
   "metadata": {},
   "outputs": [],
   "source": [
    "def data_scientists_who_like(target_interest):\n",
    "    return [user[\"id\"] for user in users if target_interest in user[\"interests\"]]\n",
    "assert [2,3,5] == data_scientists_who_like('python')"
   ]
  },
  {
   "cell_type": "code",
   "execution_count": 46,
   "metadata": {},
   "outputs": [],
   "source": [
    "user_ids_by_interest= defaultdict(list)\n",
    "for user in users:\n",
    "    for interest in user['interests']:\n",
    "        user_ids_by_interest[interest].append(user['id'])\n"
   ]
  },
  {
   "cell_type": "code",
   "execution_count": 47,
   "metadata": {},
   "outputs": [
    {
     "name": "stdout",
     "output_type": "stream",
     "text": [
      "{0: ['hadoop', 'big data', 'hbase', 'java', 'spark', 'storm', 'cassandra'],\n",
      " 1: ['nosql', 'mongodb', 'cassandra', 'hbase', 'postgres'],\n",
      " 2: ['python', 'scikit-learn', 'scipy', 'numpy', 'statsmodel', 'pandas'],\n",
      " 3: ['R', 'python', 'statistics', 'regression', 'probability'],\n",
      " 4: ['machine learning', 'regression', 'decision trees', 'libsvm'],\n",
      " 5: ['python', 'R', 'java', 'c++', 'haskell', 'programming languages'],\n",
      " 6: ['statistics', 'probability', 'mathematics', 'theory'],\n",
      " 7: ['machine learning', 'scikit-learn', 'mahout', 'neural networks'],\n",
      " 8: ['neural networks', 'deep learning', 'big data', 'artificial intelligence'],\n",
      " 9: ['hadoop', 'java', 'mapreduce', 'big data']}\n"
     ]
    }
   ],
   "source": [
    "intersts_by_user_id = {u['id']: u['interests'] for u in users}\n",
    "__import__('pprint').pprint(intersts_by_user_id)"
   ]
  },
  {
   "cell_type": "code",
   "execution_count": 48,
   "metadata": {},
   "outputs": [],
   "source": [
    "def most_common_interests_with(user):\n",
    "    return Counter(\n",
    "        interested_user_id \n",
    "        for interest in intersts_by_user_id[user[\"id\"]]\n",
    "        for interested_user_id in user_ids_by_interest[interest]\n",
    "        if interested_user_id != user['id']\n",
    "    )"
   ]
  },
  {
   "cell_type": "code",
   "execution_count": 49,
   "metadata": {},
   "outputs": [
    {
     "name": "stdout",
     "output_type": "stream",
     "text": [
      "Counter({9: 3, 1: 2, 8: 1, 5: 1})\n"
     ]
    }
   ],
   "source": [
    "print(most_common_interests_with(users[0]))"
   ]
  },
  {
   "cell_type": "code",
   "execution_count": 55,
   "metadata": {},
   "outputs": [
    {
     "data": {
      "text/plain": [
       "[]"
      ]
     },
     "execution_count": 55,
     "metadata": {},
     "output_type": "execute_result"
    },
    {
     "data": {
      "image/png": "[encoded data removed]",
      "text/plain": [
       "<Figure size 432x288 with 1 Axes>"
      ]
     },
     "metadata": {
      "needs_background": "light"
     },
     "output_type": "display_data"
    }
   ],
   "source": [
    "salaries_and_tenures = [\n",
    "    (83000, 8.7), (88000, 8.1),\n",
    "    (48000, 0.7), (76000, 6),\n",
    "    (69000, 6.5), (76000, 7.5),\n",
    "    (60000, 2.5), (83000, 10),\n",
    "    (48000, 1.9), (63000, 4.2)\n",
    "]\n",
    "salaries = [st[0] for st in salaries_and_tenures]\n",
    "tenures = [st[1] for st in salaries_and_tenures]\n",
    "plt.scatter(tenures, salaries, color='green')\n",
    "plt.plot()"
   ]
  },
  {
   "cell_type": "code",
   "execution_count": 57,
   "metadata": {},
   "outputs": [
    {
     "name": "stdout",
     "output_type": "stream",
     "text": [
      "{8.7: 83000.0, 8.1: 88000.0, 0.7: 48000.0, 6: 76000.0, 6.5: 69000.0, 7.5: 76000.0, 2.5: 60000.0, 10: 83000.0, 1.9: 48000.0, 4.2: 63000.0}\n"
     ]
    }
   ],
   "source": [
    "salary_by_tenure = defaultdict(list)\n",
    "for salary, tenure in salaries_and_tenures:\n",
    "    salary_by_tenure[tenure].append(salary)\n",
    "average_salary_by_tenure = {\n",
    "    tenure: sum(salaries)/len(salaries)\n",
    "            for tenure, salaries in salary_by_tenure.items()\n",
    "}\n",
    "print(average_salary_by_tenure)"
   ]
  },
  {
   "cell_type": "code",
   "execution_count": 59,
   "metadata": {},
   "outputs": [],
   "source": [
    "def tenure_bucket(tenure):\n",
    "    if tenure < 2:\n",
    "        return \"less than 2\"\n",
    "    elif tenure < 5:\n",
    "        return \"less than 5\"\n",
    "    else:\n",
    "        return \"more than 5\"\n",
    "\n",
    "salary_by_tenure_bucket = defaultdict(list)\n",
    "for salary, tenure in salaries_and_tenures:\n",
    "    bucket = tenure_bucket(tenure)\n",
    "    salary_by_tenure_bucket[bucket].append(salary)\n",
    "\n",
    "average_salary_by_bucket = {\n",
    "    tenure_bucket: sum(salaries)/len(salaries)\n",
    "    for tenure_bucket, salaries in salary_by_tenure_bucket.items()\n",
    "}"
   ]
  },
  {
   "cell_type": "code",
   "execution_count": 60,
   "metadata": {},
   "outputs": [
    {
     "name": "stdout",
     "output_type": "stream",
     "text": [
      "{'more than 5': 79166.66666666667, 'less than 2': 48000.0, 'less than 5': 61500.0}\n"
     ]
    }
   ],
   "source": [
    "print(average_salary_by_bucket)"
   ]
  },
  {
   "cell_type": "code",
   "execution_count": 67,
   "metadata": {},
   "outputs": [],
   "source": [
    "\n",
    "\n",
    "words_and_counts = Counter(word \n",
    "                           for user, interests in intersts_by_user_id.items()\n",
    "                           for interest in interests\n",
    "                           for word in interest.lower().split()\n",
    "                          )"
   ]
  },
  {
   "cell_type": "code",
   "execution_count": 70,
   "metadata": {},
   "outputs": [
    {
     "data": {
      "text/plain": [
       "[('big', 3),\n",
       " ('data', 3),\n",
       " ('java', 3),\n",
       " ('python', 3),\n",
       " ('learning', 3),\n",
       " ('hadoop', 2),\n",
       " ('hbase', 2),\n",
       " ('cassandra', 2),\n",
       " ('scikit-learn', 2),\n",
       " ('r', 2),\n",
       " ('statistics', 2),\n",
       " ('regression', 2),\n",
       " ('probability', 2),\n",
       " ('machine', 2),\n",
       " ('neural', 2),\n",
       " ('networks', 2)]"
      ]
     },
     "execution_count": 70,
     "metadata": {},
     "output_type": "execute_result"
    }
   ],
   "source": [
    "[wc for wc in words_and_counts.most_common() if wc[1] > 1]"
   ]
  },
  {
   "cell_type": "code",
   "execution_count": null,
   "metadata": {},
   "outputs": [],
   "source": []
  }
 ],
 "metadata": {
  "kernelspec": {
   "display_name": "Python 3",
   "language": "python",
   "name": "python3"
  },
  "language_info": {
   "codemirror_mode": {
    "name": "ipython",
    "version": 3
   },
   "file_extension": ".py",
   "mimetype": "text/x-python",
   "name": "python",
   "nbconvert_exporter": "python",
   "pygments_lexer": "ipython3",
   "version": "3.7.6"
  }
 },
 "nbformat": 4,
 "nbformat_minor": 4
}
