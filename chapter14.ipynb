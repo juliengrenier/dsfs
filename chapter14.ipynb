{
 "cells": [
  {
   "cell_type": "code",
   "execution_count": 2,
   "metadata": {},
   "outputs": [],
   "source": [
    "# %load ./dsfs/lr.py\n",
    "from typing import Tuple\n",
    "\n",
    "from dsfs.vector import Vector\n",
    "from dsfs.stats import correlation, standard_deviation, mean, de_mean\n",
    "\n",
    "\n",
    "def predict(alpha: float, beta: float, x: float) -> float:\n",
    "    return beta * x + alpha\n",
    "\n",
    "\n",
    "def error(alpha: float, beta: float, x: float, y: float) -> float:\n",
    "    return predict(alpha, beta, x) - y\n",
    "\n",
    "\n",
    "def sum_of_sqerror(alpha: float, beta:float, xs: Vector, ys: Vector) -> float:\n",
    "    return sum(error(alpha, beta, x_i, y_i)**2 for x_i, y_i in zip(xs, ys))\n",
    "\n",
    "\n",
    "def least_squares_fit(xs: Vector, ys: Vector) -> Tuple[float, float]:\n",
    "    beta = correlation(xs, ys) * standard_deviation(ys) / standard_deviation(xs)\n",
    "    alpha = mean(ys) - beta * mean(xs)\n",
    "    return alpha, beta\n",
    "\n",
    "\n",
    "def total_sum_of_squares(xs: Vector) -> float:\n",
    "    return sum(x ** 2 for x in de_mean(xs))\n",
    "\n",
    "def r_squared(alpla: float, beta: float, xs: Vector, ys: Vector) -> float:\n",
    "    return 1 - (sum_of_sqerror(alpha, beta, xs, ys) / total_sum_of_squares(ys))\n"
   ]
  },
  {
   "cell_type": "code",
   "execution_count": 3,
   "metadata": {},
   "outputs": [],
   "source": [
    "xs = list(range(-100, 110, 10))\n",
    "ys = [3 * i - 5 for i in xs]\n",
    "assert least_squares_fit(xs, ys) == (-5, 3), least_squares_fit(xs, ys)"
   ]
  },
  {
   "cell_type": "code",
   "execution_count": 4,
   "metadata": {},
   "outputs": [
    {
     "data": {
      "image/png": "[encoded data removed]",
      "text/plain": [
       "<Figure size 432x288 with 1 Axes>"
      ]
     },
     "metadata": {
      "needs_background": "light"
     },
     "output_type": "display_data"
    }
   ],
   "source": [
    "import matplotlib.pyplot as plt\n",
    "\n",
    "num_friends = [\n",
    "    100.0,49,41,40,25,21,21,19,19,18,18,16,15,15,15,15,14,14,13,13,13,13,12,12,11,10,10,10,10,10,10,\n",
    "    10,10,10,10,10,10,10,10,10,9,9,9,9,9,9,9,9,9,9,9,9,9,9,9,9,9,9,8,8,8,8,8,8,8,8,8,8,8,8,8,7,7,7,7,\n",
    "    7,7,7,7,7,7,7,7,7,7,7,6,6,6,6,6,6,6,6,6,6,6,6,6,6,6,6,6,6,6,6,6,6,5,5,5,5,5,5,5,5,5,5,5,5,5,5,5,5,\n",
    "    5,4,4,4,4,4,4,4,4,4,4,4,4,4,4,4,4,4,4,4,4,3,3,3,3,3,3,3,3,3,3,3,3,3,3,3,3,3,3,3,3,2,2,2,2,2,2,2,2,\n",
    "    2,2,2,2,2,2,2,2,2,1,1,1,1,1,1,1,1,1,1,1,1,1,1,1,1,1,1,1,1,1,1]\n",
    "daily_minutes = [\n",
    "    1,68.77,51.25,52.08,38.36,44.54,57.13,51.4,41.42,31.22,34.76,54.01,38.79,47.59,49.1,27.66,41.03,36.73,\n",
    "    48.65,28.12,46.62,35.57,32.98,35,26.07,23.77,39.73,40.57,31.65,31.21,36.32,20.45,21.93,26.02,27.34,23.49,\n",
    "    46.94,30.5,33.8,24.23,21.4,27.94,32.24,40.57,25.07,19.42,22.39,18.42,46.96,23.72,26.41,26.97,36.76,40.32,\n",
    "    35.02,29.47,30.2,31,38.11,38.18,36.31,21.03,30.86,36.07,28.66,29.08,37.28,15.28,24.17,22.31,30.17,25.53,\n",
    "    19.85,35.37,44.6,17.23,13.47,26.33,35.02,32.09,24.81,19.33,28.77,24.26,31.98,25.73,24.86,16.28,34.51,15.23,\n",
    "    39.72,40.8,26.06,35.76,34.76,16.13,44.04,18.03,19.65,32.62,35.59,39.43,14.18,35.24,40.13,41.82,35.45,36.07,\n",
    "    43.67,24.61,20.9,21.9,18.79,27.61,27.21,26.61,29.77,20.59,27.53,13.82,33.2,25,33.1,36.65,18.63,14.87,22.2,36.81,\n",
    "    25.53,24.62,26.25,18.21,28.08,19.42,29.79,32.8,35.99,28.32,27.79,35.88,29.06,36.28,14.1,36.63,37.49,26.9,18.58,\n",
    "    38.48,24.48,18.95,33.55,14.24,29.04,32.51,25.63,22.22,19,32.73,15.16,13.9,27.2,32.01,29.27,33,13.74,20.42,27.32,\n",
    "    18.23,35.35,28.48,9.08,24.62,20.12,35.26,19.92,31.02,16.49,12.16,30.7,31.22,34.65,13.13,27.51,33.2,31.57,14.1,\n",
    "    33.42,17.44,10.12,24.42,9.82,23.39,30.93,15.03,21.67,31.09,33.29,22.61,26.89,23.48,8.38,27.81,32.35,23.84\n",
    "]\n",
    "outlier = num_friends.index(100)\n",
    "num_friends_good = [x for i, x in enumerate(num_friends) if i != outlier]\n",
    "daily_minutes_good = [y for i, y in enumerate(daily_minutes) if i != outlier]\n",
    "\n",
    "alpha, beta = least_squares_fit(num_friends_good, daily_minutes_good)\n",
    "\n",
    "plt.scatter(num_friends_good, daily_minutes_good)\n",
    "xs = range(0,50)\n",
    "ys = [predict(alpha=alpha, beta=beta, x=x) for x in xs]\n",
    "plt.plot(xs, ys, 'r-')\n",
    "plt.show()"
   ]
  },
  {
   "cell_type": "code",
   "execution_count": 5,
   "metadata": {},
   "outputs": [
    {
     "data": {
      "text/plain": [
       "0.3291078377836305"
      ]
     },
     "metadata": {},
     "output_type": "display_data"
    }
   ],
   "source": [
    "rsq = r_squared(alpla=alpha, beta=beta, xs=num_friends_good, ys=daily_minutes_good)\n",
    "display(rsq)"
   ]
  },
  {
   "cell_type": "code",
   "execution_count": 6,
   "metadata": {},
   "outputs": [
    {
     "data": {
      "text/plain": [
       "(22.94755241346903, 0.903865945605865)"
      ]
     },
     "execution_count": 6,
     "metadata": {},
     "output_type": "execute_result"
    }
   ],
   "source": [
    "alpha, beta"
   ]
  },
  {
   "cell_type": "code",
   "execution_count": 23,
   "metadata": {},
   "outputs": [
    {
     "name": "stdout",
     "output_type": "stream",
     "text": [
      "0 [4.240225754138459, 1.0370620488511182]\n",
      "100 [1.6193981717641934, 14.012220596464966]\n",
      "200 [1.1940009933886628, 19.32444107213817]\n",
      "300 [1.021510326773559, 21.478447957079435]\n",
      "400 [0.9515685603919687, 22.351857801723792]\n",
      "500 [0.9232084712313601, 22.706009295878605]\n",
      "600 [0.9117089810296182, 22.849611158831216]\n",
      "700 [0.9070461510169531, 22.907839051085833]\n",
      "800 [0.9051554599214713, 22.93144938152796]\n",
      "900 [0.9043888197461208, 22.94102293265616]\n",
      "1000 [0.9040779613727656, 22.944904830092057]\n",
      "1100 [0.9039519140674025, 22.946478867510475]\n",
      "1200 [0.9039008042226924, 22.947117110492282]\n",
      "1300 [0.9038800801285225, 22.94737590618484]\n",
      "1400 [0.9038716768926749, 22.94748084303868]\n",
      "1500 [0.9038682695363804, 22.94752339298681]\n",
      "1600 [0.9038668879165944, 22.947540646201663]\n",
      "1700 [0.903866327695395, 22.947547642060307]\n",
      "1800 [0.9038661005360893, 22.94755047875123]\n",
      "1900 [0.903866008427202, 22.94755162897681]\n",
      "[0.903865971309736, 22.94755209248756]\n"
     ]
    }
   ],
   "source": [
    "import random\n",
    "theta =[random.uniform(-1, 1), random.uniform(-1, 1)]\n",
    "from dsfs.gradients import linear_gradient_descent\n",
    "for epoch, theta in linear_gradient_descent(\n",
    "    xs=num_friends_good,\n",
    "    ys=daily_minutes_good,\n",
    "    num_epochs=2000,\n",
    "    learning_rate=0.01,\n",
    "    initial_weights=theta):\n",
    "    if epoch % 100 == 0:\n",
    "        print(epoch, theta)\n",
    "\n",
    "print(theta)"
   ]
  },
  {
   "cell_type": "code",
   "execution_count": null,
   "metadata": {},
   "outputs": [],
   "source": []
  }
 ],
 "metadata": {
  "kernelspec": {
   "display_name": "Python 3",
   "language": "python",
   "name": "python3"
  },
  "language_info": {
   "codemirror_mode": {
    "name": "ipython",
    "version": 3
   },
   "file_extension": ".py",
   "mimetype": "text/x-python",
   "name": "python",
   "nbconvert_exporter": "python",
   "pygments_lexer": "ipython3",
   "version": "3.7.6"
  }
 },
 "nbformat": 4,
 "nbformat_minor": 4
}
