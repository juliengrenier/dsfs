{
 "cells": [
  {
   "cell_type": "code",
   "execution_count": 48,
   "metadata": {},
   "outputs": [],
   "source": [
    "# %load ./dsfs/probs.py\n",
    "from typing import Tuple\n",
    "import math\n",
    "import random\n",
    "from collections import Counter\n",
    "import matplotlib.pyplot as plt\n",
    "\n",
    "def uniform_pdf(x: float) -> float:\n",
    "    return 1 if 0 <= x < 1 else 0\n",
    "\n",
    "def uniform_cdf(x: float) -> float:\n",
    "    if x < 0 : return 0\n",
    "    if x < 1 : return x\n",
    "    return 1\n",
    "\n",
    "def normal_pdf(x: float, mu: float = 0, sigma: float = 1) -> float:\n",
    "    return (math.exp(-(x-mu)**2 / 2 / sigma **2) / (math.sqrt(2 * math.pi) * sigma))\n",
    "\n",
    "\n",
    "def normal_cdf(x: float, mu:float = 0, sigma: float =1) -> float:\n",
    "    return (1 + math.erf((x-mu)/ math.sqrt(2) / sigma)) /2\n",
    "\n",
    "\n",
    "def inverse_normal_cdf(p: float, mu: float = 0, sigma: float = 1, tolerance: float = 0.00001) -> float:\n",
    "    if mu != 0 or sigma != 1: return mu + sigma * inverse_normal_cdf(p, tolerance=tolerance)\n",
    "\n",
    "    low_z = -10.0\n",
    "    hi_z = 10\n",
    "    while (hi_z - low_z) > tolerance:\n",
    "        mid_z = (low_z + hi_z) /2\n",
    "        mid_p = normal_cdf(mid_z)\n",
    "        if mid_p < p:\n",
    "            low_z = mid_z\n",
    "        else:\n",
    "            hi_z = mid_z\n",
    "    return mid_z\n",
    "\n",
    "\n",
    "def bernouilli_trial(p: float) -> int:\n",
    "    return 1 if random.random() < p else 0\n",
    "\n",
    "\n",
    "def binomial(n: int, p: float) -> int:\n",
    "    return sum(bernouilli_trial(p)for _ in range(n))\n",
    "\n",
    "\n",
    "def binomial_histogram(p: float, n: int, num_points: int) -> None:\n",
    "    data = [binomial(n, p) for _ in range(num_points)]\n",
    "    histogram = Counter(data)\n",
    "    plt.bar(\n",
    "        [ x - 0.5 for x in histogram.keys()],\n",
    "        [v/num_points for v in histogram.values()],\n",
    "        0.8,\n",
    "        color='0.75'\n",
    "    )\n",
    "    mu, sigma = normal_approximation_to_binomial(n, p)\n",
    "\n",
    "    xs = range(min(data), max(data) + 1)\n",
    "    ys = [normal_cdf(i + 0.5, mu, sigma) - normal_cdf(i - 0.5, mu, sigma) for i in xs]\n",
    "    plt.plot(xs, ys)\n",
    "    plt.title('Binomal Distribution vs Normal Approximation')\n",
    "    plt.show()\n",
    "\n",
    "\n",
    "def normal_approximation_to_binomial(n: int, p:float) -> Tuple[float, float]:\n",
    "    mu = n * p\n",
    "    sigma = math.sqrt(mu * (1-p))\n",
    "    return mu, sigma\n",
    "\n",
    "\n",
    "\n",
    "normal_probability_below = normal_cdf\n",
    "\n",
    "def normal_probability_above(lo: float, mu: float = 0, sigma: float = 1) -> float:\n",
    "    return 1 - normal_probability_below(lo, mu, sigma)\n",
    "\n",
    "\n",
    "def normal_probability_between(lo: float, hi: float, mu: float = 0, sigma: float = 1) -> float:\n",
    "    return normal_cdf(hi, mu, sigma) - normal_cdf(lo, mu, sigma)\n",
    "\n",
    "\n",
    "def normal_probability_outside(lo, float, hi: float, mu: float = 0, sigma: float = 1 ) -> float:\n",
    "    return 1 - normal_probability_between(lo, hi, mu, sigma)\n",
    "\n",
    "\n",
    "def normal_upper_bound(probability: float, mu: float = 0, sigma: float = 1) -> float:\n",
    "    return inverse_normal_cdf(probability, mu, sigma)\n",
    "\n",
    "\n",
    "def normal_lower_bound(probability: float, mu: float = 0, sigma: float = 1) -> float:\n",
    "    return inverse_normal_cdf(1-probability, mu, sigma)\n",
    "\n",
    "\n",
    "def normal_two_sided_bounds(probability: float, mu: float = 0, sigma: float = 1) -> Tuple[float, float]:\n",
    "    tail_probability = (1-probability) / 2\n",
    "    upper_bound = normal_lower_bound(tail_probability, mu, sigma)\n",
    "    lower_bound = normal_upper_bound(tail_probability, mu, sigma)\n",
    "    return lower_bound, upper_bound\n",
    "\n",
    "\n",
    "def two_sided_p_value(x: float, mu: float = 0, sigma: float = 1) -> float:\n",
    "    if x >= mu:\n",
    "        return 2 * normal_probability_above(x, mu, sigma)\n",
    "    else:\n",
    "        return 2 * normal_probability_below(x, mu, sigma)\n",
    "\n",
    "\n",
    "upper_p_value = normal_probability_above\n",
    "\n",
    "lower_p_value = normal_probability_below\n",
    "\n",
    "\n",
    "\n",
    "def B(alpha: float, beta: float) -> float:\n",
    "    return math.gamma(alpha) * math.gamma(beta) / math.gamma(alpha + beta)\n",
    "\n",
    "def beta_pdf(x: float, alpha: float, beta: float) -> float:\n",
    "    if x <= 0 or x >= 1:\n",
    "        return 0\n",
    "    return x ** (alpha -1) * (1 -x) ** (beta -1) / B(alpha, beta)\n",
    "\n"
   ]
  },
  {
   "cell_type": "code",
   "execution_count": 49,
   "metadata": {},
   "outputs": [
    {
     "data": {
      "text/plain": [
       "500.0"
      ]
     },
     "metadata": {},
     "output_type": "display_data"
    },
    {
     "data": {
      "text/plain": [
       "15.811388300841896"
      ]
     },
     "metadata": {},
     "output_type": "display_data"
    },
    {
     "data": {
      "text/plain": [
       "469.01026640487555"
      ]
     },
     "metadata": {},
     "output_type": "display_data"
    },
    {
     "data": {
      "text/plain": [
       "530.9897335951244"
      ]
     },
     "metadata": {},
     "output_type": "display_data"
    },
    {
     "data": {
      "text/plain": [
       "'This meams that there is only a 5% chance that we observe a result outside of those bounds (469-530)'"
      ]
     },
     "metadata": {},
     "output_type": "display_data"
    }
   ],
   "source": [
    "# Flip 1000 coins\n",
    "mu_0, sigma_0 = normal_approximation_to_binomial(1000, 0.5)\n",
    "display(mu_0, sigma_0)\n",
    "lower_bound, upper_bound = normal_two_sided_bounds(0.95, mu_0, sigma_0)\n",
    "display(lower_bound, upper_bound)\n",
    "display(\"This meams that there is only a 5% chance that we observe a result outside of those bounds (469-530)\")"
   ]
  },
  {
   "cell_type": "code",
   "execution_count": 50,
   "metadata": {},
   "outputs": [
    {
     "data": {
      "text/plain": [
       "0.8865480012953671"
      ]
     },
     "metadata": {},
     "output_type": "display_data"
    }
   ],
   "source": [
    "# A slightly bias coin\n",
    "mu_1, sigma_1 = normal_approximation_to_binomial(1000, 0.55)\n",
    "#Type 2 is a false negative\n",
    "type_2_probability = normal_probability_between(lo=lower_bound, hi=upper_bound, mu=mu_1, sigma=sigma_1)\n",
    "power = 1 - type_2_probability\n",
    "display(power)"
   ]
  },
  {
   "cell_type": "code",
   "execution_count": 51,
   "metadata": {},
   "outputs": [
    {
     "data": {
      "text/plain": [
       "0.9363794803307173"
      ]
     },
     "metadata": {},
     "output_type": "display_data"
    }
   ],
   "source": [
    "hi = normal_upper_bound(0.95, mu_0, sigma_0)\n",
    "assert hi >526 and hi < 527, hi\n",
    "type_2_probability = normal_probability_below(hi, mu_1, sigma_1)\n",
    "power = 1 - type_2_probability\n",
    "display(power)"
   ]
  },
  {
   "cell_type": "code",
   "execution_count": 52,
   "metadata": {},
   "outputs": [
    {
     "data": {
      "text/plain": [
       "0.06207721579598835"
      ]
     },
     "execution_count": 52,
     "metadata": {},
     "output_type": "execute_result"
    }
   ],
   "source": [
    "two_sided_p_value(529.5, mu_0, sigma_0)  # If the coin is fair, we have a 6% chance of flipping 530 heads"
   ]
  },
  {
   "cell_type": "code",
   "execution_count": 53,
   "metadata": {},
   "outputs": [
    {
     "ename": "AssertionError",
     "evalue": "57",
     "output_type": "error",
     "traceback": [
      "\u001b[0;31m---------------------------------------------------------------------------\u001b[0m",
      "\u001b[0;31mAssertionError\u001b[0m                            Traceback (most recent call last)",
      "\u001b[0;32m<ipython-input-53-d6e6e0a86b6d>\u001b[0m in \u001b[0;36m<module>\u001b[0;34m\u001b[0m\n\u001b[1;32m      6\u001b[0m         \u001b[0mextreme_value_count\u001b[0m \u001b[0;34m+=\u001b[0m \u001b[0;36m1\u001b[0m\u001b[0;34m\u001b[0m\u001b[0;34m\u001b[0m\u001b[0m\n\u001b[1;32m      7\u001b[0m \u001b[0;31m#p-value if 0.062 -> ~62  extreme value for 1000 trial\u001b[0m\u001b[0;34m\u001b[0m\u001b[0;34m\u001b[0m\u001b[0;34m\u001b[0m\u001b[0m\n\u001b[0;32m----> 8\u001b[0;31m \u001b[0;32massert\u001b[0m \u001b[0;36m59\u001b[0m \u001b[0;34m<\u001b[0m \u001b[0mextreme_value_count\u001b[0m \u001b[0;34m<\u001b[0m \u001b[0;36m65\u001b[0m\u001b[0;34m,\u001b[0m \u001b[0;34mf\"{extreme_value_count}\"\u001b[0m\u001b[0;34m\u001b[0m\u001b[0;34m\u001b[0m\u001b[0m\n\u001b[0m",
      "\u001b[0;31mAssertionError\u001b[0m: 57"
     ]
    }
   ],
   "source": [
    "# Simulation\n",
    "extreme_value_count = 0\n",
    "for _ in range(1000):\n",
    "    num_heads = binomial(1000, 0.5)\n",
    "    if num_heads >= 530 or num_heads <= 470:\n",
    "        extreme_value_count += 1\n",
    "#p-value if 0.062 -> ~62  extreme value for 1000 trial\n",
    "assert 59 < extreme_value_count < 65, f\"{extreme_value_count}\""
   ]
  },
  {
   "cell_type": "code",
   "execution_count": 54,
   "metadata": {},
   "outputs": [
    {
     "data": {
      "text/plain": [
       "0.4940490278129096"
      ]
     },
     "metadata": {},
     "output_type": "display_data"
    },
    {
     "data": {
      "text/plain": [
       "0.5559509721870904"
      ]
     },
     "metadata": {},
     "output_type": "display_data"
    },
    {
     "data": {
      "text/plain": [
       "0.5091095927295919"
      ]
     },
     "metadata": {},
     "output_type": "display_data"
    },
    {
     "data": {
      "text/plain": [
       "0.5708904072704082"
      ]
     },
     "metadata": {},
     "output_type": "display_data"
    }
   ],
   "source": [
    "#Confidence Interval\n",
    "p_hat = 525/1000 # we don't know the probability and we observed 525 head coins\n",
    "mu = p_hat\n",
    "sigma = math.sqrt(p_hat * (1 - p_hat)/1000) \n",
    "lo, hi = normal_two_sided_bounds(0.95, mu, sigma)\n",
    "display(lo, hi)\n",
    "assert lo <= 0.5 <= hi #We cannot say the coin is unfair (we are 95% confident)\n",
    "\n",
    "p_hat = 540/1000 # We observe 540 head coins\n",
    "mu = p_hat\n",
    "sigma = math.sqrt(p_hat * (1-p_hat)/1000)\n",
    "lo, hi = normal_two_sided_bounds(0.95, mu, sigma)\n",
    "display(lo, hi)\n",
    "assert 0.5 <= lo #We cay say the coin is unfair (we are 95% confident)"
   ]
  },
  {
   "cell_type": "code",
   "execution_count": 55,
   "metadata": {},
   "outputs": [],
   "source": [
    "# p-hacking\n",
    "\n",
    "from typing import List\n",
    "\n",
    "def reject_fairness(num_heads: int) -> bool:\n",
    "    return num_heads < 469 or num_heads > 531\n",
    "\n",
    "random.seed(0)\n",
    "experiments = [binomial(1000, 0.5) for _ in range(1000)]\n",
    "\n",
    "num_rejections = len([experiment for experiment in experiments if reject_fairness(experiment)])\n",
    "\n",
    "assert num_rejections == 46, num_rejections  #i.e if we try often enough we will find experiments that reject our Hypothese\n"
   ]
  },
  {
   "cell_type": "code",
   "execution_count": 56,
   "metadata": {},
   "outputs": [
    {
     "data": {
      "text/plain": [
       "-1.1403464899034472"
      ]
     },
     "metadata": {},
     "output_type": "display_data"
    },
    {
     "data": {
      "text/plain": [
       "0.254141976542236"
      ]
     },
     "metadata": {},
     "output_type": "display_data"
    },
    {
     "data": {
      "text/plain": [
       "0.003189699706216853"
      ]
     },
     "metadata": {},
     "output_type": "display_data"
    }
   ],
   "source": [
    "# A-B Testing\n",
    "# N_a people sees ad A and n_a click it. n_a/Na => p_a (probability of someone click on ad A)\n",
    "\n",
    "\n",
    "def estimated_parameters(N: int, n: int) -> Tuple[float, float]:\n",
    "    p = n/N\n",
    "    sigma = math.sqrt(p * (1 -p) / N)\n",
    "    return p, sigma\n",
    "\n",
    "def a_b_test_statistic(N_a: int, n_a: int, N_b: int, n_b: int) -> float:\n",
    "    p_a, sigma_a = estimated_parameters(N_a, n_a)\n",
    "    p_b, sigma_b = estimated_parameters(N_b, n_b)\n",
    "    return (p_b - p_a)/ math.sqrt(sigma_a**2 + sigma_b**2)\n",
    "\n",
    "z1 = a_b_test_statistic(1000, 200, 1000, 180)\n",
    "display(z1)\n",
    "display(two_sided_p_value(z1)) \n",
    "\n",
    "z2 = a_b_test_statistic(1000, 200, 1000, 150)\n",
    "display(two_sided_p_value(z2))\n",
    "\n"
   ]
  },
  {
   "cell_type": "code",
   "execution_count": 74,
   "metadata": {},
   "outputs": [
    {
     "data": {
      "image/png": "[encoded data removed]",
      "text/plain": [
       "<Figure size 432x288 with 1 Axes>"
      ]
     },
     "metadata": {
      "needs_background": "light"
     },
     "output_type": "display_data"
    }
   ],
   "source": [
    "xs = [x/100 for x in range(0, 100)]\n",
    "plt.plot(xs, [beta_pdf(x, 1, 1) for x in xs], '-', label='Beta(1, 1)')\n",
    "plt.plot(xs, [beta_pdf(x, 16, 4) for x in xs], '.', label='Beta(16,4)')\n",
    "plt.plot(xs, [beta_pdf(x, 4, 16) for x in xs],  '-.', label='Beta(4,16)')\n",
    "plt.plot(xs, [beta_pdf(x, 10, 10) for x in xs], '.-', label='Beta(10, 10)')\n",
    "plt.legend()\n",
    "plt.title('Various Beta distributions')\n",
    "plt.show()"
   ]
  },
  {
   "cell_type": "code",
   "execution_count": 76,
   "metadata": {},
   "outputs": [
    {
     "data": {
      "image/png": "[encoded data removed]",
      "text/plain": [
       "<Figure size 432x288 with 1 Axes>"
      ]
     },
     "metadata": {
      "needs_background": "light"
     },
     "output_type": "display_data"
    }
   ],
   "source": [
    "# Coin fairness example\n",
    "# you flip 10 coins, see 3 heads\n",
    "# If you started with a B(1, 1) which means you don't have an opinion about the fairness of the coin, \n",
    "# you would have a new distribution of B(1+3, 1+7) => B(4, 8) which is centered at 0.33. Roughly the observed probability.\n",
    "# If you started with a B(20, 20), you would have B(23, 27) which is centered at 0.46 slightly revising belief that\n",
    "# the coin is slightly biased towards tails\n",
    "# If you strted at B(30, 10), believing the coin is biased towards heads, the new distribution would be B(33, 17)\n",
    "# You would still believe a head bias but less strongly.\n",
    "\n",
    "xs = [x/100 for x in range(0, 100)]\n",
    "plt.plot(xs, [beta_pdf(x, 4, 8) for x in xs], '-', label='Beta(4, 8)')\n",
    "plt.plot(xs, [beta_pdf(x, 23, 17) for x in xs],  '-.', label='Beta(23,17)')\n",
    "plt.plot(xs, [beta_pdf(x, 33, 17) for x in xs], '.-', label='Beta(33, 17)')\n",
    "plt.legend()\n",
    "plt.show()\n"
   ]
  },
  {
   "cell_type": "code",
   "execution_count": null,
   "metadata": {},
   "outputs": [],
   "source": []
  }
 ],
 "metadata": {
  "kernelspec": {
   "display_name": "Python 3",
   "language": "python",
   "name": "python3"
  },
  "language_info": {
   "codemirror_mode": {
    "name": "ipython",
    "version": 3
   },
   "file_extension": ".py",
   "mimetype": "text/x-python",
   "name": "python",
   "nbconvert_exporter": "python",
   "pygments_lexer": "ipython3",
   "version": "3.7.6"
  }
 },
 "nbformat": 4,
 "nbformat_minor": 4
}
